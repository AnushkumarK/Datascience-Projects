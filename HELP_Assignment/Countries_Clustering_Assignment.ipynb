{
 "cells": [
  {
   "cell_type": "markdown",
   "metadata": {},
   "source": [
    "## Countries Clustering\n",
    "### Submitted by : ANUSHKUMAR K"
   ]
  },
  {
   "cell_type": "code",
   "execution_count": 16,
   "metadata": {},
   "outputs": [],
   "source": [
    "#importing libraries\n",
    "\n",
    "import pandas as pd\n",
    "import numpy as np\n",
    "import matplotlib.pyplot as plt\n",
    "%matplotlib inline\n",
    "import seaborn as sns\n",
    "from sklearn.preprocessing import scale\n",
    "from sklearn.cluster import KMeans\n",
    "from scipy.cluster.hierarchy import linkage\n",
    "from scipy.cluster.hierarchy import dendrogram\n",
    "from scipy.cluster.hierarchy import cut_tree"
   ]
  },
  {
   "cell_type": "code",
   "execution_count": 17,
   "metadata": {},
   "outputs": [
    {
     "data": {
      "text/html": [
       "<div>\n",
       "<style scoped>\n",
       "    .dataframe tbody tr th:only-of-type {\n",
       "        vertical-align: middle;\n",
       "    }\n",
       "\n",
       "    .dataframe tbody tr th {\n",
       "        vertical-align: top;\n",
       "    }\n",
       "\n",
       "    .dataframe thead th {\n",
       "        text-align: right;\n",
       "    }\n",
       "</style>\n",
       "<table border=\"1\" class=\"dataframe\">\n",
       "  <thead>\n",
       "    <tr style=\"text-align: right;\">\n",
       "      <th></th>\n",
       "      <th>country</th>\n",
       "      <th>child_mort</th>\n",
       "      <th>exports</th>\n",
       "      <th>health</th>\n",
       "      <th>imports</th>\n",
       "      <th>income</th>\n",
       "      <th>inflation</th>\n",
       "      <th>life_expec</th>\n",
       "      <th>total_fer</th>\n",
       "      <th>gdpp</th>\n",
       "    </tr>\n",
       "  </thead>\n",
       "  <tbody>\n",
       "    <tr>\n",
       "      <th>0</th>\n",
       "      <td>Afghanistan</td>\n",
       "      <td>90.2</td>\n",
       "      <td>10.0</td>\n",
       "      <td>7.58</td>\n",
       "      <td>44.9</td>\n",
       "      <td>1610</td>\n",
       "      <td>9.44</td>\n",
       "      <td>56.2</td>\n",
       "      <td>5.82</td>\n",
       "      <td>553</td>\n",
       "    </tr>\n",
       "    <tr>\n",
       "      <th>1</th>\n",
       "      <td>Albania</td>\n",
       "      <td>16.6</td>\n",
       "      <td>28.0</td>\n",
       "      <td>6.55</td>\n",
       "      <td>48.6</td>\n",
       "      <td>9930</td>\n",
       "      <td>4.49</td>\n",
       "      <td>76.3</td>\n",
       "      <td>1.65</td>\n",
       "      <td>4090</td>\n",
       "    </tr>\n",
       "    <tr>\n",
       "      <th>2</th>\n",
       "      <td>Algeria</td>\n",
       "      <td>27.3</td>\n",
       "      <td>38.4</td>\n",
       "      <td>4.17</td>\n",
       "      <td>31.4</td>\n",
       "      <td>12900</td>\n",
       "      <td>16.10</td>\n",
       "      <td>76.5</td>\n",
       "      <td>2.89</td>\n",
       "      <td>4460</td>\n",
       "    </tr>\n",
       "    <tr>\n",
       "      <th>3</th>\n",
       "      <td>Angola</td>\n",
       "      <td>119.0</td>\n",
       "      <td>62.3</td>\n",
       "      <td>2.85</td>\n",
       "      <td>42.9</td>\n",
       "      <td>5900</td>\n",
       "      <td>22.40</td>\n",
       "      <td>60.1</td>\n",
       "      <td>6.16</td>\n",
       "      <td>3530</td>\n",
       "    </tr>\n",
       "    <tr>\n",
       "      <th>4</th>\n",
       "      <td>Antigua and Barbuda</td>\n",
       "      <td>10.3</td>\n",
       "      <td>45.5</td>\n",
       "      <td>6.03</td>\n",
       "      <td>58.9</td>\n",
       "      <td>19100</td>\n",
       "      <td>1.44</td>\n",
       "      <td>76.8</td>\n",
       "      <td>2.13</td>\n",
       "      <td>12200</td>\n",
       "    </tr>\n",
       "  </tbody>\n",
       "</table>\n",
       "</div>"
      ],
      "text/plain": [
       "               country  child_mort  exports  health  imports  income  \\\n",
       "0          Afghanistan        90.2     10.0    7.58     44.9    1610   \n",
       "1              Albania        16.6     28.0    6.55     48.6    9930   \n",
       "2              Algeria        27.3     38.4    4.17     31.4   12900   \n",
       "3               Angola       119.0     62.3    2.85     42.9    5900   \n",
       "4  Antigua and Barbuda        10.3     45.5    6.03     58.9   19100   \n",
       "\n",
       "   inflation  life_expec  total_fer   gdpp  \n",
       "0       9.44        56.2       5.82    553  \n",
       "1       4.49        76.3       1.65   4090  \n",
       "2      16.10        76.5       2.89   4460  \n",
       "3      22.40        60.1       6.16   3530  \n",
       "4       1.44        76.8       2.13  12200  "
      ]
     },
     "execution_count": 17,
     "metadata": {},
     "output_type": "execute_result"
    }
   ],
   "source": [
    "## Data Understanding\n",
    "\n",
    "initial_data = pd.read_csv('C:/Users/Anush/Documents/Python/Upgrad_Notes/Upgrad_Notes/Course2-ML/HELP_Assignment/Country-data.csv')\n",
    "initial_data.head()"
   ]
  },
  {
   "cell_type": "code",
   "execution_count": 18,
   "metadata": {},
   "outputs": [
    {
     "data": {
      "text/html": [
       "<div>\n",
       "<style scoped>\n",
       "    .dataframe tbody tr th:only-of-type {\n",
       "        vertical-align: middle;\n",
       "    }\n",
       "\n",
       "    .dataframe tbody tr th {\n",
       "        vertical-align: top;\n",
       "    }\n",
       "\n",
       "    .dataframe thead th {\n",
       "        text-align: right;\n",
       "    }\n",
       "</style>\n",
       "<table border=\"1\" class=\"dataframe\">\n",
       "  <thead>\n",
       "    <tr style=\"text-align: right;\">\n",
       "      <th></th>\n",
       "      <th>country</th>\n",
       "      <th>child_mort</th>\n",
       "      <th>exports</th>\n",
       "      <th>health</th>\n",
       "      <th>imports</th>\n",
       "      <th>income</th>\n",
       "      <th>inflation</th>\n",
       "      <th>life_expec</th>\n",
       "      <th>total_fer</th>\n",
       "      <th>gdpp</th>\n",
       "    </tr>\n",
       "  </thead>\n",
       "  <tbody>\n",
       "    <tr>\n",
       "      <th>0</th>\n",
       "      <td>Afghanistan</td>\n",
       "      <td>90.2</td>\n",
       "      <td>55.30</td>\n",
       "      <td>41.9174</td>\n",
       "      <td>248.297</td>\n",
       "      <td>1610</td>\n",
       "      <td>9.44</td>\n",
       "      <td>56.2</td>\n",
       "      <td>5.82</td>\n",
       "      <td>553</td>\n",
       "    </tr>\n",
       "    <tr>\n",
       "      <th>1</th>\n",
       "      <td>Albania</td>\n",
       "      <td>16.6</td>\n",
       "      <td>1145.20</td>\n",
       "      <td>267.8950</td>\n",
       "      <td>1987.740</td>\n",
       "      <td>9930</td>\n",
       "      <td>4.49</td>\n",
       "      <td>76.3</td>\n",
       "      <td>1.65</td>\n",
       "      <td>4090</td>\n",
       "    </tr>\n",
       "    <tr>\n",
       "      <th>2</th>\n",
       "      <td>Algeria</td>\n",
       "      <td>27.3</td>\n",
       "      <td>1712.64</td>\n",
       "      <td>185.9820</td>\n",
       "      <td>1400.440</td>\n",
       "      <td>12900</td>\n",
       "      <td>16.10</td>\n",
       "      <td>76.5</td>\n",
       "      <td>2.89</td>\n",
       "      <td>4460</td>\n",
       "    </tr>\n",
       "    <tr>\n",
       "      <th>3</th>\n",
       "      <td>Angola</td>\n",
       "      <td>119.0</td>\n",
       "      <td>2199.19</td>\n",
       "      <td>100.6050</td>\n",
       "      <td>1514.370</td>\n",
       "      <td>5900</td>\n",
       "      <td>22.40</td>\n",
       "      <td>60.1</td>\n",
       "      <td>6.16</td>\n",
       "      <td>3530</td>\n",
       "    </tr>\n",
       "    <tr>\n",
       "      <th>4</th>\n",
       "      <td>Antigua and Barbuda</td>\n",
       "      <td>10.3</td>\n",
       "      <td>5551.00</td>\n",
       "      <td>735.6600</td>\n",
       "      <td>7185.800</td>\n",
       "      <td>19100</td>\n",
       "      <td>1.44</td>\n",
       "      <td>76.8</td>\n",
       "      <td>2.13</td>\n",
       "      <td>12200</td>\n",
       "    </tr>\n",
       "  </tbody>\n",
       "</table>\n",
       "</div>"
      ],
      "text/plain": [
       "               country  child_mort  exports    health   imports  income  \\\n",
       "0          Afghanistan        90.2    55.30   41.9174   248.297    1610   \n",
       "1              Albania        16.6  1145.20  267.8950  1987.740    9930   \n",
       "2              Algeria        27.3  1712.64  185.9820  1400.440   12900   \n",
       "3               Angola       119.0  2199.19  100.6050  1514.370    5900   \n",
       "4  Antigua and Barbuda        10.3  5551.00  735.6600  7185.800   19100   \n",
       "\n",
       "   inflation  life_expec  total_fer   gdpp  \n",
       "0       9.44        56.2       5.82    553  \n",
       "1       4.49        76.3       1.65   4090  \n",
       "2      16.10        76.5       2.89   4460  \n",
       "3      22.40        60.1       6.16   3530  \n",
       "4       1.44        76.8       2.13  12200  "
      ]
     },
     "execution_count": 18,
     "metadata": {},
     "output_type": "execute_result"
    }
   ],
   "source": [
    "## Conveting the data from percentage to actual values\n",
    "initial_data['imports']=initial_data['imports']*initial_data['gdpp']/100\n",
    "initial_data['exports']=initial_data['exports']*initial_data['gdpp']/100\n",
    "initial_data['health']=initial_data['health']*initial_data['gdpp']/100\n",
    "initial_data.head()"
   ]
  },
  {
   "cell_type": "code",
   "execution_count": 19,
   "metadata": {},
   "outputs": [
    {
     "name": "stdout",
     "output_type": "stream",
     "text": [
      "<class 'pandas.core.frame.DataFrame'>\n",
      "RangeIndex: 167 entries, 0 to 166\n",
      "Data columns (total 10 columns):\n",
      "country       167 non-null object\n",
      "child_mort    167 non-null float64\n",
      "exports       167 non-null float64\n",
      "health        167 non-null float64\n",
      "imports       167 non-null float64\n",
      "income        167 non-null int64\n",
      "inflation     167 non-null float64\n",
      "life_expec    167 non-null float64\n",
      "total_fer     167 non-null float64\n",
      "gdpp          167 non-null int64\n",
      "dtypes: float64(7), int64(2), object(1)\n",
      "memory usage: 13.1+ KB\n"
     ]
    },
    {
     "data": {
      "text/plain": [
       "country       0\n",
       "child_mort    0\n",
       "exports       0\n",
       "health        0\n",
       "imports       0\n",
       "income        0\n",
       "inflation     0\n",
       "life_expec    0\n",
       "total_fer     0\n",
       "gdpp          0\n",
       "dtype: int64"
      ]
     },
     "execution_count": 19,
     "metadata": {},
     "output_type": "execute_result"
    }
   ],
   "source": [
    "initial_data.shape\n",
    "initial_data.info()\n",
    "initial_data.isna().sum()"
   ]
  },
  {
   "cell_type": "code",
   "execution_count": 20,
   "metadata": {},
   "outputs": [
    {
     "data": {
      "text/plain": [
       "<matplotlib.axes._subplots.AxesSubplot at 0xc5c7e80>"
      ]
     },
     "execution_count": 20,
     "metadata": {},
     "output_type": "execute_result"
    },
    {
     "data": {
      "image/png": "[encoded data removed]",
      "text/plain": [
       "<Figure size 1080x504 with 2 Axes>"
      ]
     },
     "metadata": {
      "needs_background": "light"
     },
     "output_type": "display_data"
    }
   ],
   "source": [
    "## Correleation Heatmap of the current columns\n",
    "plt.figure(figsize=(15,7))\n",
    "sns.heatmap(initial_data.corr(),annot=True)"
   ]
  },
  {
   "cell_type": "markdown",
   "metadata": {},
   "source": [
    "We have multiple highly correlated variables from the heat map. Hence we need to use the PCA algorithm."
   ]
  },
  {
   "cell_type": "code",
   "execution_count": 21,
   "metadata": {},
   "outputs": [
    {
     "data": {
      "text/html": [
       "<div>\n",
       "<style scoped>\n",
       "    .dataframe tbody tr th:only-of-type {\n",
       "        vertical-align: middle;\n",
       "    }\n",
       "\n",
       "    .dataframe tbody tr th {\n",
       "        vertical-align: top;\n",
       "    }\n",
       "\n",
       "    .dataframe thead th {\n",
       "        text-align: right;\n",
       "    }\n",
       "</style>\n",
       "<table border=\"1\" class=\"dataframe\">\n",
       "  <thead>\n",
       "    <tr style=\"text-align: right;\">\n",
       "      <th></th>\n",
       "      <th>child_mort</th>\n",
       "      <th>exports</th>\n",
       "      <th>health</th>\n",
       "      <th>imports</th>\n",
       "      <th>income</th>\n",
       "      <th>inflation</th>\n",
       "      <th>life_expec</th>\n",
       "      <th>total_fer</th>\n",
       "      <th>gdpp</th>\n",
       "    </tr>\n",
       "  </thead>\n",
       "  <tbody>\n",
       "    <tr>\n",
       "      <th>0</th>\n",
       "      <td>90.2</td>\n",
       "      <td>55.30</td>\n",
       "      <td>41.9174</td>\n",
       "      <td>248.297</td>\n",
       "      <td>1610</td>\n",
       "      <td>9.44</td>\n",
       "      <td>56.2</td>\n",
       "      <td>5.82</td>\n",
       "      <td>553</td>\n",
       "    </tr>\n",
       "    <tr>\n",
       "      <th>1</th>\n",
       "      <td>16.6</td>\n",
       "      <td>1145.20</td>\n",
       "      <td>267.8950</td>\n",
       "      <td>1987.740</td>\n",
       "      <td>9930</td>\n",
       "      <td>4.49</td>\n",
       "      <td>76.3</td>\n",
       "      <td>1.65</td>\n",
       "      <td>4090</td>\n",
       "    </tr>\n",
       "    <tr>\n",
       "      <th>2</th>\n",
       "      <td>27.3</td>\n",
       "      <td>1712.64</td>\n",
       "      <td>185.9820</td>\n",
       "      <td>1400.440</td>\n",
       "      <td>12900</td>\n",
       "      <td>16.10</td>\n",
       "      <td>76.5</td>\n",
       "      <td>2.89</td>\n",
       "      <td>4460</td>\n",
       "    </tr>\n",
       "    <tr>\n",
       "      <th>3</th>\n",
       "      <td>119.0</td>\n",
       "      <td>2199.19</td>\n",
       "      <td>100.6050</td>\n",
       "      <td>1514.370</td>\n",
       "      <td>5900</td>\n",
       "      <td>22.40</td>\n",
       "      <td>60.1</td>\n",
       "      <td>6.16</td>\n",
       "      <td>3530</td>\n",
       "    </tr>\n",
       "    <tr>\n",
       "      <th>4</th>\n",
       "      <td>10.3</td>\n",
       "      <td>5551.00</td>\n",
       "      <td>735.6600</td>\n",
       "      <td>7185.800</td>\n",
       "      <td>19100</td>\n",
       "      <td>1.44</td>\n",
       "      <td>76.8</td>\n",
       "      <td>2.13</td>\n",
       "      <td>12200</td>\n",
       "    </tr>\n",
       "  </tbody>\n",
       "</table>\n",
       "</div>"
      ],
      "text/plain": [
       "   child_mort  exports    health   imports  income  inflation  life_expec  \\\n",
       "0        90.2    55.30   41.9174   248.297    1610       9.44        56.2   \n",
       "1        16.6  1145.20  267.8950  1987.740    9930       4.49        76.3   \n",
       "2        27.3  1712.64  185.9820  1400.440   12900      16.10        76.5   \n",
       "3       119.0  2199.19  100.6050  1514.370    5900      22.40        60.1   \n",
       "4        10.3  5551.00  735.6600  7185.800   19100       1.44        76.8   \n",
       "\n",
       "   total_fer   gdpp  \n",
       "0       5.82    553  \n",
       "1       1.65   4090  \n",
       "2       2.89   4460  \n",
       "3       6.16   3530  \n",
       "4       2.13  12200  "
      ]
     },
     "execution_count": 21,
     "metadata": {},
     "output_type": "execute_result"
    }
   ],
   "source": [
    "## Dropping country column to align with the final matrix\n",
    "\n",
    "data_drop_country=initial_data.drop(['country'],axis=1)\n",
    "data_drop_country.head()"
   ]
  },
  {
   "cell_type": "code",
   "execution_count": 22,
   "metadata": {},
   "outputs": [
    {
     "data": {
      "text/plain": [
       "array([[ 1.29153238, -0.4110113 , -0.56503989, ..., -1.61909203,\n",
       "         1.90288227, -0.67917961],\n",
       "       [-0.5389489 , -0.35019096, -0.43921769, ...,  0.64786643,\n",
       "        -0.85997281, -0.48562324],\n",
       "       [-0.27283273, -0.31852577, -0.48482608, ...,  0.67042323,\n",
       "        -0.0384044 , -0.46537561],\n",
       "       ...,\n",
       "       [-0.37231541, -0.36146329, -0.53848844, ...,  0.28695762,\n",
       "        -0.66120626, -0.63775406],\n",
       "       [ 0.44841668, -0.39216643, -0.55059641, ..., -0.34463279,\n",
       "         1.14094382, -0.63775406],\n",
       "       [ 1.11495062, -0.38395214, -0.54049845, ..., -2.09278484,\n",
       "         1.6246091 , -0.62954556]])"
      ]
     },
     "execution_count": 22,
     "metadata": {},
     "output_type": "execute_result"
    }
   ],
   "source": [
    "## Rescaling because PCA has to be applied\n",
    "\n",
    "from sklearn.preprocessing import StandardScaler\n",
    "standard_scaler=StandardScaler()\n",
    "revised_data1 = standard_scaler.fit_transform(data_drop_country)\n",
    "revised_data1"
   ]
  },
  {
   "cell_type": "code",
   "execution_count": 25,
   "metadata": {},
   "outputs": [
    {
     "data": {
      "text/plain": [
       "array([[-0.31639186,  0.34288671,  0.358535  ,  0.34486492,  0.38004113,\n",
       "        -0.14308531,  0.34385651, -0.30284224,  0.39998795],\n",
       "       [ 0.47626735,  0.39731091,  0.1550529 ,  0.37078075,  0.12838448,\n",
       "         0.22126089, -0.36981973,  0.4597152 ,  0.2006241 ],\n",
       "       [-0.15001225, -0.03057367, -0.07570322, -0.07217386,  0.14576421,\n",
       "         0.94841868,  0.19675173, -0.07783431,  0.01033941],\n",
       "       [-0.14805195,  0.44942527, -0.59971228,  0.46179779, -0.15480592,\n",
       "        -0.00762798, -0.01839465, -0.21392805, -0.36477239],\n",
       "       [ 0.1019948 , -0.03853829, -0.49319984, -0.2527867 ,  0.79407469,\n",
       "        -0.13642345, -0.15404105, -0.02033568,  0.08750149],\n",
       "       [ 0.19658519, -0.03891112,  0.18069888, -0.01217988, -0.03814681,\n",
       "         0.10840284, -0.58600986, -0.75390075,  0.04538167],\n",
       "       [ 0.76126725, -0.01366973, -0.06461567,  0.02718244, -0.02311312,\n",
       "        -0.02207663,  0.58120846, -0.27314534, -0.04402264],\n",
       "       [ 0.00644411, -0.05526371,  0.43007213,  0.1311355 ,  0.3938113 ,\n",
       "        -0.00607016,  0.002966  ,  0.03429334, -0.79902242],\n",
       "       [-0.00495137, -0.71792388, -0.13034593,  0.66568664,  0.07901102,\n",
       "         0.01128137, -0.03159406,  0.02368185,  0.12846398]])"
      ]
     },
     "execution_count": 25,
     "metadata": {},
     "output_type": "execute_result"
    }
   ],
   "source": [
    "## Importing the PCA Module\n",
    "\n",
    "from sklearn.decomposition import PCA\n",
    "pca = PCA(svd_solver='randomized', random_state=42)\n",
    "pca.fit(revised_data1)\n",
    "pca.components_"
   ]
  },
  {
   "cell_type": "code",
   "execution_count": 26,
   "metadata": {},
   "outputs": [
    {
     "data": {
      "text/plain": [
       "array([5.89372984e-01, 1.84451685e-01, 9.91147170e-02, 6.07227801e-02,\n",
       "       3.02917253e-02, 2.45982702e-02, 9.39743701e-03, 1.55641971e-03,\n",
       "       4.93981394e-04])"
      ]
     },
     "execution_count": 26,
     "metadata": {},
     "output_type": "execute_result"
    }
   ],
   "source": [
    "## Variance ratio\n",
    "\n",
    "pca.explained_variance_ratio_"
   ]
  },
  {
   "cell_type": "code",
   "execution_count": 29,
   "metadata": {},
   "outputs": [
    {
     "data": {
      "image/png": "[encoded data removed]",
      "text/plain": [
       "<Figure size 1080x576 with 1 Axes>"
      ]
     },
     "metadata": {
      "needs_background": "light"
     },
     "output_type": "display_data"
    }
   ],
   "source": [
    "## Screeplot - plotting cumulative variance against number of components\n",
    "%matplotlib inline\n",
    "fig=plt.figure(figsize=(15,8))\n",
    "plt.plot(np.cumsum(pca.explained_variance_ratio_))\n",
    "plt.xlabel('No. of components')\n",
    "plt.ylabel('Explained Variance')\n",
    "plt.show()"
   ]
  },
  {
   "cell_type": "markdown",
   "metadata": {},
   "source": [
    "From the plot above, we can see that almost 90% datais explained clearly by the first 3 PCA components. We can use them for clustering of data"
   ]
  },
  {
   "cell_type": "code",
   "execution_count": 32,
   "metadata": {},
   "outputs": [
    {
     "data": {
      "text/html": [
       "<div>\n",
       "<style scoped>\n",
       "    .dataframe tbody tr th:only-of-type {\n",
       "        vertical-align: middle;\n",
       "    }\n",
       "\n",
       "    .dataframe tbody tr th {\n",
       "        vertical-align: top;\n",
       "    }\n",
       "\n",
       "    .dataframe thead th {\n",
       "        text-align: right;\n",
       "    }\n",
       "</style>\n",
       "<table border=\"1\" class=\"dataframe\">\n",
       "  <thead>\n",
       "    <tr style=\"text-align: right;\">\n",
       "      <th></th>\n",
       "      <th>Feature</th>\n",
       "      <th>PC1</th>\n",
       "      <th>PC2</th>\n",
       "      <th>PC3</th>\n",
       "    </tr>\n",
       "  </thead>\n",
       "  <tbody>\n",
       "    <tr>\n",
       "      <th>0</th>\n",
       "      <td>child_mort</td>\n",
       "      <td>-0.316392</td>\n",
       "      <td>0.476267</td>\n",
       "      <td>-0.150012</td>\n",
       "    </tr>\n",
       "    <tr>\n",
       "      <th>1</th>\n",
       "      <td>exports</td>\n",
       "      <td>0.342887</td>\n",
       "      <td>0.397311</td>\n",
       "      <td>-0.030574</td>\n",
       "    </tr>\n",
       "    <tr>\n",
       "      <th>2</th>\n",
       "      <td>health</td>\n",
       "      <td>0.358535</td>\n",
       "      <td>0.155053</td>\n",
       "      <td>-0.075703</td>\n",
       "    </tr>\n",
       "    <tr>\n",
       "      <th>3</th>\n",
       "      <td>imports</td>\n",
       "      <td>0.344865</td>\n",
       "      <td>0.370781</td>\n",
       "      <td>-0.072174</td>\n",
       "    </tr>\n",
       "    <tr>\n",
       "      <th>4</th>\n",
       "      <td>income</td>\n",
       "      <td>0.380041</td>\n",
       "      <td>0.128384</td>\n",
       "      <td>0.145764</td>\n",
       "    </tr>\n",
       "    <tr>\n",
       "      <th>5</th>\n",
       "      <td>inflation</td>\n",
       "      <td>-0.143085</td>\n",
       "      <td>0.221261</td>\n",
       "      <td>0.948419</td>\n",
       "    </tr>\n",
       "    <tr>\n",
       "      <th>6</th>\n",
       "      <td>life_expec</td>\n",
       "      <td>0.343857</td>\n",
       "      <td>-0.369820</td>\n",
       "      <td>0.196752</td>\n",
       "    </tr>\n",
       "    <tr>\n",
       "      <th>7</th>\n",
       "      <td>total_fer</td>\n",
       "      <td>-0.302842</td>\n",
       "      <td>0.459715</td>\n",
       "      <td>-0.077834</td>\n",
       "    </tr>\n",
       "    <tr>\n",
       "      <th>8</th>\n",
       "      <td>gdpp</td>\n",
       "      <td>0.399988</td>\n",
       "      <td>0.200624</td>\n",
       "      <td>0.010339</td>\n",
       "    </tr>\n",
       "  </tbody>\n",
       "</table>\n",
       "</div>"
      ],
      "text/plain": [
       "      Feature       PC1       PC2       PC3\n",
       "0  child_mort -0.316392  0.476267 -0.150012\n",
       "1     exports  0.342887  0.397311 -0.030574\n",
       "2      health  0.358535  0.155053 -0.075703\n",
       "3     imports  0.344865  0.370781 -0.072174\n",
       "4      income  0.380041  0.128384  0.145764\n",
       "5   inflation -0.143085  0.221261  0.948419\n",
       "6  life_expec  0.343857 -0.369820  0.196752\n",
       "7   total_fer -0.302842  0.459715 -0.077834\n",
       "8        gdpp  0.399988  0.200624  0.010339"
      ]
     },
     "execution_count": 32,
     "metadata": {},
     "output_type": "execute_result"
    }
   ],
   "source": [
    "cols_after_drop=list(initial_data.drop('country',axis=1).columns)\n",
    "cluster_df1 = pd.DataFrame({'Feature':cols_after_drop,'PC1':pca.components_[0],'PC2':pca.components_[1],'PC3':pca.components_[2]})\n",
    "cluster_df1"
   ]
  },
  {
   "cell_type": "code",
   "execution_count": 33,
   "metadata": {},
   "outputs": [
    {
     "data": {
      "image/png": "[encoded data removed]",
      "text/plain": [
       "<Figure size 720x720 with 1 Axes>"
      ]
     },
     "metadata": {
      "needs_background": "light"
     },
     "output_type": "display_data"
    }
   ],
   "source": [
    "## Plotting 2 components\n",
    "\n",
    "%matplotlib inline\n",
    "fig = plt.figure(figsize=(10,10))\n",
    "plt.scatter(cluster_df1.PC1,cluster_df1.PC2)\n",
    "plt.xlabel('Component 1')\n",
    "plt.ylabel('Component 2')\n",
    "for i ,y in enumerate(cluster_df1.Feature):\n",
    "    plt.annotate(y,(cluster_df1.PC1[i],cluster_df1.PC2[i]))\n",
    "plt.tight_layout()\n",
    "plt.show()"
   ]
  },
  {
   "cell_type": "markdown",
   "metadata": {},
   "source": [
    "Child mortality and total fertility is well explained by the 2nd component. Others are well explained by the first component."
   ]
  },
  {
   "cell_type": "code",
   "execution_count": 34,
   "metadata": {},
   "outputs": [],
   "source": [
    "## Incremental PCA\n",
    "from sklearn.decomposition import IncrementalPCA\n",
    "final_pca=IncrementalPCA(n_components=3)"
   ]
  },
  {
   "cell_type": "code",
   "execution_count": 36,
   "metadata": {},
   "outputs": [
    {
     "data": {
      "text/plain": [
       "(167, 3)"
      ]
     },
     "execution_count": 36,
     "metadata": {},
     "output_type": "execute_result"
    }
   ],
   "source": [
    "## Our data with principal components\n",
    "\n",
    "df_train=final_pca.fit_transform(revised_data1)\n",
    "df_train.shape"
   ]
  },
  {
   "cell_type": "code",
   "execution_count": 37,
   "metadata": {},
   "outputs": [
    {
     "data": {
      "text/plain": [
       "array([[-2.63744157e+00, -2.22769569e-02, -4.57626261e-01,\n",
       "        -2.72452030e+00,  6.49848516e-01,  3.71968554e-02,\n",
       "        -3.32691520e-01,  3.18036154e+00,  3.81568156e+00,\n",
       "        -4.67515152e-01,  1.49875246e+00,  1.47097104e+00,\n",
       "        -1.01419903e+00,  8.45238116e-01, -1.34473920e-02,\n",
       "         3.96087770e+00, -4.02707071e-01, -2.36598657e+00,\n",
       "        -7.14998191e-01, -1.01778054e+00,  2.52812687e-01,\n",
       "        -1.13095912e+00,  1.66280202e-01,  2.69525065e+00,\n",
       "         2.80569006e-01, -2.75387449e+00, -2.76406823e+00,\n",
       "        -1.17929406e+00, -2.44142939e+00,  3.39411994e+00,\n",
       "        -5.23229456e-01, -3.24153046e+00, -3.18889212e+00,\n",
       "         6.92394286e-01, -1.28851026e-01, -1.38822916e-02,\n",
       "        -1.94991207e+00, -3.11679859e+00, -2.04776384e+00,\n",
       "         4.31523541e-01, -2.57476033e+00,  8.46278142e-01,\n",
       "         2.31379384e+00,  1.67463303e+00,  4.37600084e+00,\n",
       "        -3.67788028e-01, -3.02658561e-01, -8.36646810e-01,\n",
       "        -3.36572123e-01, -1.05577406e+00, -1.94848965e+00,\n",
       "         1.06557915e+00, -7.62615708e-01,  3.20148606e+00,\n",
       "         2.89215450e+00, -1.28280191e+00, -2.10533591e+00,\n",
       "        -3.60504965e-01,  3.29930852e+00, -2.00241212e+00,\n",
       "         1.93046755e+00, -8.55184899e-02, -8.57586524e-01,\n",
       "        -2.71436749e+00, -2.61088220e+00, -9.32328908e-01,\n",
       "        -3.94495955e+00,  1.05201992e+00,  3.10042218e+00,\n",
       "        -1.26527648e+00, -8.42067437e-01, -7.83604357e-02,\n",
       "        -1.19755535e+00,  4.66106546e+00,  1.78332399e+00,\n",
       "         2.55301292e+00, -2.92488125e-01,  2.85862023e+00,\n",
       "        -5.21408157e-01, -3.56704385e-01, -1.73754907e+00,\n",
       "        -1.66771576e+00,  2.78022258e+00, -1.09060307e+00,\n",
       "        -1.63798735e+00,  6.66371378e-01,  6.47380735e-01,\n",
       "        -2.43643715e+00, -2.25920211e+00,  4.92263179e-01,\n",
       "         7.77907024e-01,  1.26443457e+01,  8.40286423e-02,\n",
       "        -1.99719466e+00, -2.71099852e+00,  4.27177521e-01,\n",
       "         2.31409518e-01, -2.94714444e+00,  2.63607678e+00,\n",
       "        -2.11479497e+00,  3.11350366e-01, -1.11560793e+00,\n",
       "        -5.11219367e-01, -1.26831401e+00,  3.55971705e-01,\n",
       "        -5.46772119e-01, -2.73267720e+00, -1.26469403e+00,\n",
       "        -1.33597288e+00, -1.25257966e+00,  4.49434594e+00,\n",
       "         2.20708488e+00, -3.06349475e+00, -3.93050805e+00,\n",
       "         5.84225530e+00,  1.05163942e+00, -1.86271903e+00,\n",
       "         3.03027657e-01, -4.87602063e-01, -1.79908876e-01,\n",
       "        -9.28957530e-01,  8.54815190e-01,  1.75954412e+00,\n",
       "         5.12429969e+00,  2.83523953e-01,  1.41656293e-01,\n",
       "        -1.74841079e+00, -8.48158634e-01,  9.11234513e-01,\n",
       "        -1.86271953e+00,  1.86490508e-01,  6.68231072e-01,\n",
       "        -3.22704810e+00,  6.58985925e+00,  1.41044469e+00,\n",
       "         2.04164022e+00, -1.51754777e+00, -1.17984717e+00,\n",
       "         1.75633945e+00,  2.24348215e+00, -5.44176127e-01,\n",
       "        -2.25341201e-01, -2.01686997e+00, -1.97679055e-01,\n",
       "         3.80597136e+00,  6.26297409e+00, -1.37579894e+00,\n",
       "        -2.27834344e+00,  1.75003752e-01, -2.00654209e+00,\n",
       "        -2.24527391e+00, -8.57094509e-01, -6.11326382e-02,\n",
       "         3.28746959e-01, -8.95571886e-01, -2.62250045e+00,\n",
       "        -3.71584511e-01,  2.68935982e+00,  2.60507653e+00,\n",
       "         3.77973688e+00,  4.56137111e-01, -1.03056343e+00,\n",
       "        -1.17501897e+00, -3.11498487e-01, -5.92402161e-01,\n",
       "        -1.80154125e+00, -2.64661126e+00],\n",
       "       [ 1.46903797e+00, -1.43189586e+00, -6.73300938e-01,\n",
       "         2.17458267e+00, -1.02437392e+00, -6.80889086e-01,\n",
       "        -1.27451685e+00, -2.50784878e-01,  2.56083499e-01,\n",
       "        -4.93492360e-01, -4.28907400e-01, -3.26795693e-01,\n",
       "        -7.11807758e-01, -1.00860625e+00, -9.82186148e-01,\n",
       "         8.38740841e-01, -9.21816189e-01,  1.16845951e+00,\n",
       "        -7.68107039e-01, -4.26144387e-01, -1.69696897e+00,\n",
       "         3.96783001e-01, -1.01868043e+00,  3.67356498e-01,\n",
       "        -1.32128913e+00,  1.66232785e+00,  1.62703825e+00,\n",
       "        -4.93713667e-01,  1.28368238e+00, -7.58855209e-02,\n",
       "        -9.78047863e-01,  2.17133945e+00,  2.35227803e+00,\n",
       "        -1.11434707e+00, -1.36213540e+00, -1.29235162e+00,\n",
       "         6.04586951e-01,  2.17150462e+00,  1.08864497e+00,\n",
       "        -1.37262753e+00,  1.49393828e+00, -1.26420905e+00,\n",
       "        -5.50247851e-01, -8.68266683e-01,  9.19899166e-01,\n",
       "        -8.12993768e-01, -9.72557952e-01, -5.29582755e-01,\n",
       "        -1.21747835e+00,  2.69689134e+00,  4.93517847e-01,\n",
       "        -9.24334486e-01, -5.81923630e-01, -4.38651220e-03,\n",
       "        -3.07170794e-01,  8.50735122e-01,  8.25136769e-01,\n",
       "        -1.16420904e+00, -1.63475829e-01,  7.51898968e-01,\n",
       "        -1.02179786e+00, -1.03950060e+00, -5.35167576e-01,\n",
       "         1.61353038e+00,  1.40183125e+00, -4.32759786e-01,\n",
       "         3.02528124e+00, -9.93622931e-01,  1.66620534e-01,\n",
       "        -2.73471726e-01, -5.64431036e-01, -9.71699050e-01,\n",
       "         3.66926553e-01,  1.40673214e+00, -3.98450266e-01,\n",
       "        -7.77100571e-01, -1.07098189e+00, -8.79853187e-01,\n",
       "        -6.37590059e-01, -2.21989984e-01,  2.80717075e-01,\n",
       "         2.32726872e-01,  4.09049216e-01, -5.44824469e-01,\n",
       "         2.38587936e-01, -1.21036568e+00, -1.49788191e+00,\n",
       "         1.15330757e+00,  9.31943490e-01, -5.17710053e-01,\n",
       "        -1.00439663e+00,  8.26526585e+00, -1.46663341e+00,\n",
       "         5.53843756e-01,  1.49439612e+00, -8.46043967e-01,\n",
       "        -1.17916241e+00,  2.00852988e+00,  8.71657993e-02,\n",
       "         1.04608272e+00, -1.18393416e+00, -2.13157479e-01,\n",
       "        -1.23132389e+00,  8.55486527e-02, -1.40622589e+00,\n",
       "        -9.78645302e-01,  1.54232048e+00, -3.58711858e-01,\n",
       "         4.12453164e-01, -4.03649867e-01,  9.91137264e-01,\n",
       "        -4.60402508e-01,  2.10345193e+00,  3.84156564e+00,\n",
       "         1.65077719e+00, -2.80233805e-02,  5.66659012e-01,\n",
       "        -8.77558152e-01, -9.16197424e-01, -1.16141959e+00,\n",
       "        -5.99764354e-01, -1.28764989e+00, -1.08887390e+00,\n",
       "         1.44099979e+00, -1.24324096e+00, -7.97629457e-01,\n",
       "         2.58810274e-01, -4.91577438e-01,  3.11483433e-02,\n",
       "         4.93654358e-01, -1.43095062e+00, -7.68133419e-01,\n",
       "         2.31622701e+00,  2.94076381e+00, -7.89309546e-01,\n",
       "        -7.26174703e-01,  1.42710226e-02,  3.49293570e-01,\n",
       "        -1.02229881e+00, -1.00694393e+00, -9.44779352e-01,\n",
       "        -9.85686904e-01,  8.51336401e-01, -5.67097461e-01,\n",
       "         3.79849383e-01,  1.85000963e+00, -1.63372836e-01,\n",
       "         1.00591556e+00, -1.39783589e+00,  1.09209234e+00,\n",
       "         9.01384656e-01, -5.43222766e-01, -1.28052084e+00,\n",
       "        -1.06532901e+00, -1.91899504e-01,  1.46053612e+00,\n",
       "        -1.15734667e+00,  5.41214474e-01, -3.74391523e-01,\n",
       "         1.19298043e-01, -1.09822863e+00, -5.62941401e-01,\n",
       "        -2.81317390e-01, -6.68715525e-03, -1.07822432e+00,\n",
       "         5.90835071e-01,  1.56806633e+00],\n",
       "       [-5.41359106e-01, -2.07009539e-02,  9.61867281e-01,\n",
       "         6.06686548e-01, -2.50102847e-01,  1.46696276e+00,\n",
       "         1.76636110e-01, -1.16877257e-01, -2.70495294e-01,\n",
       "         6.03288028e-01, -5.50237572e-01,  4.28411771e-01,\n",
       "        -1.16988551e-01, -4.17261615e-01,  8.80913018e-01,\n",
       "        -2.94077196e-01, -5.04892363e-01, -1.23525716e+00,\n",
       "        -1.34109127e-01,  5.16465672e-02, -2.50836495e-01,\n",
       "        -2.39304177e-01,  2.76558220e-01,  1.64616171e+00,\n",
       "        -3.24418990e-01, -8.38530674e-01, -2.89501749e-01,\n",
       "        -5.79293325e-01, -1.21856998e+00, -5.31210031e-02,\n",
       "        -5.73628045e-01, -1.60432462e+00, -1.06346393e+00,\n",
       "         4.97610946e-01,  1.69283810e-01, -9.14677579e-02,\n",
       "        -7.68860274e-01,  3.65532243e-01,  7.15229292e-01,\n",
       "         2.62061719e-01, -9.50191143e-01, -2.67258861e-01,\n",
       "        -6.22654443e-02, -4.36511824e-01, -1.86529955e-01,\n",
       "        -7.21568825e-02,  1.72477125e-01,  2.51857913e-01,\n",
       "        -2.87803708e-01,  1.07364824e+00, -4.07068580e-02,\n",
       "        -2.02813828e-01, -3.87273966e-01, -2.77573697e-01,\n",
       "        -2.12461353e-01,  5.22787837e-01, -7.45876298e-01,\n",
       "         2.22137822e-01, -2.47480550e-01,  3.65803951e-01,\n",
       "        -1.97169128e-01, -5.13496872e-01, -2.38976872e-01,\n",
       "         3.81112147e-02, -1.19274761e+00, -3.12365847e-01,\n",
       "        -1.79111113e+00, -1.78986761e-01,  1.95525454e-01,\n",
       "        -7.93540516e-02,  7.04183140e-01,  1.01036952e+00,\n",
       "         6.77786697e-01, -7.72706005e-01, -1.29869769e-01,\n",
       "        -1.70574633e-01,  3.72733290e-01, -3.49318688e-01,\n",
       "         2.09087479e-01,  1.16239312e+00, -8.73885085e-01,\n",
       "        -9.70327191e-01,  1.10198987e+00,  1.36468875e-01,\n",
       "        -2.18411812e-01, -4.98155603e-01, -2.74720020e-01,\n",
       "        -1.16893445e+00, -7.63506099e-01,  9.54316810e-01,\n",
       "        -2.03252447e-01, -7.44422522e-01, -2.54533838e-01,\n",
       "        -3.38949086e-01, -3.58971361e-01,  2.58877823e-01,\n",
       "        -1.65173022e-01, -1.12382153e+00, -8.06881075e-02,\n",
       "         5.93506195e-01, -3.53340370e-01, -5.62427694e-01,\n",
       "         3.84380598e-01,  2.75680072e+00, -2.37602576e-01,\n",
       "        -5.21939515e-01, -7.76059664e-01, -2.54282073e-01,\n",
       "        -7.61497045e-01,  5.38299132e-01, -3.83121947e-01,\n",
       "         4.02226753e-02, -1.29601270e+00,  7.86649100e+00,\n",
       "         1.85810149e-01,  1.19785090e+00, -1.04890743e-01,\n",
       "        -2.08919158e-01, -2.02154532e-02,  7.96190705e-02,\n",
       "        -3.54198733e-01, -1.69052042e-01, -2.14430100e-01,\n",
       "         1.17107078e+00, -8.78695362e-02,  8.19296842e-01,\n",
       "        -8.07940722e-01, -5.34690531e-01,  1.30178694e+00,\n",
       "        -9.17758293e-01,  1.18010625e-01, -8.54486502e-01,\n",
       "        -1.19591404e-01, -3.37303856e-01, -3.49240050e-01,\n",
       "        -3.97057843e-01, -3.57636331e-01, -5.33353823e-01,\n",
       "         8.09814622e-02, -1.77758596e-01,  1.57161816e+00,\n",
       "        -1.73911064e-01,  6.97648281e-01,  3.35800779e-02,\n",
       "        -2.38743262e-01, -4.76166618e-01,  2.77517846e-01,\n",
       "        -3.97830215e-01, -1.37076883e-02,  1.39169881e+00,\n",
       "        -1.18666619e+00, -3.75027066e-01, -8.88316742e-02,\n",
       "         2.66875043e-01, -6.22690182e-01, -4.03761119e-01,\n",
       "         6.51387502e-01,  9.57821458e-01, -1.46298882e-01,\n",
       "        -3.09117650e-01,  4.89676824e-02,  7.43224331e-01,\n",
       "        -6.70432664e-01,  3.65671155e+00,  5.10558163e-01,\n",
       "         1.17776563e+00, -1.74032291e-01]])"
      ]
     },
     "execution_count": 37,
     "metadata": {},
     "output_type": "execute_result"
    }
   ],
   "source": [
    "## Transpose of the matrix to create the new matrix\n",
    "\n",
    "transpose_df=np.transpose(df_train)\n",
    "transpose_df"
   ]
  },
  {
   "cell_type": "code",
   "execution_count": 39,
   "metadata": {},
   "outputs": [
    {
     "data": {
      "text/html": [
       "<div>\n",
       "<style scoped>\n",
       "    .dataframe tbody tr th:only-of-type {\n",
       "        vertical-align: middle;\n",
       "    }\n",
       "\n",
       "    .dataframe tbody tr th {\n",
       "        vertical-align: top;\n",
       "    }\n",
       "\n",
       "    .dataframe thead th {\n",
       "        text-align: right;\n",
       "    }\n",
       "</style>\n",
       "<table border=\"1\" class=\"dataframe\">\n",
       "  <thead>\n",
       "    <tr style=\"text-align: right;\">\n",
       "      <th></th>\n",
       "      <th>country</th>\n",
       "      <th>PC1</th>\n",
       "      <th>PC2</th>\n",
       "      <th>PC3</th>\n",
       "    </tr>\n",
       "  </thead>\n",
       "  <tbody>\n",
       "    <tr>\n",
       "      <th>0</th>\n",
       "      <td>Afghanistan</td>\n",
       "      <td>-2.637442</td>\n",
       "      <td>1.469038</td>\n",
       "      <td>-0.541359</td>\n",
       "    </tr>\n",
       "    <tr>\n",
       "      <th>1</th>\n",
       "      <td>Albania</td>\n",
       "      <td>-0.022277</td>\n",
       "      <td>-1.431896</td>\n",
       "      <td>-0.020701</td>\n",
       "    </tr>\n",
       "    <tr>\n",
       "      <th>2</th>\n",
       "      <td>Algeria</td>\n",
       "      <td>-0.457626</td>\n",
       "      <td>-0.673301</td>\n",
       "      <td>0.961867</td>\n",
       "    </tr>\n",
       "    <tr>\n",
       "      <th>3</th>\n",
       "      <td>Angola</td>\n",
       "      <td>-2.724520</td>\n",
       "      <td>2.174583</td>\n",
       "      <td>0.606687</td>\n",
       "    </tr>\n",
       "    <tr>\n",
       "      <th>4</th>\n",
       "      <td>Antigua and Barbuda</td>\n",
       "      <td>0.649849</td>\n",
       "      <td>-1.024374</td>\n",
       "      <td>-0.250103</td>\n",
       "    </tr>\n",
       "  </tbody>\n",
       "</table>\n",
       "</div>"
      ],
      "text/plain": [
       "               country       PC1       PC2       PC3\n",
       "0          Afghanistan -2.637442  1.469038 -0.541359\n",
       "1              Albania -0.022277 -1.431896 -0.020701\n",
       "2              Algeria -0.457626 -0.673301  0.961867\n",
       "3               Angola -2.724520  2.174583  0.606687\n",
       "4  Antigua and Barbuda  0.649849 -1.024374 -0.250103"
      ]
     },
     "execution_count": 39,
     "metadata": {},
     "output_type": "execute_result"
    }
   ],
   "source": [
    "## New Matrix\n",
    "\n",
    "rownames = list(initial_data['country'])\n",
    "df2_pca = pd.DataFrame({'country':rownames,'PC1':transpose_df[0],'PC2':transpose_df[1],'PC3':transpose_df[2]})\n",
    "df2_pca.head()"
   ]
  },
  {
   "cell_type": "code",
   "execution_count": 40,
   "metadata": {},
   "outputs": [
    {
     "data": {
      "image/png": "[encoded data removed]",
      "text/plain": [
       "<Figure size 432x288 with 1 Axes>"
      ]
     },
     "metadata": {
      "needs_background": "light"
     },
     "output_type": "display_data"
    }
   ],
   "source": [
    "## Identifying the outliers\n",
    "\n",
    "plt.boxplot(df2_pca.PC1)\n",
    "Q1 = df2_pca.PC1.quantile(0.05)\n",
    "Q3 = df2_pca.PC1.quantile(0.95)\n",
    "IQR=Q3-Q1\n",
    "df2_pca = df2_pca[(df2_pca.PC1>=Q1) & (df2_pca.PC1<=Q3)]"
   ]
  },
  {
   "cell_type": "code",
   "execution_count": 42,
   "metadata": {},
   "outputs": [
    {
     "data": {
      "image/png": "[encoded data removed]",
      "text/plain": [
       "<Figure size 432x288 with 1 Axes>"
      ]
     },
     "metadata": {
      "needs_background": "light"
     },
     "output_type": "display_data"
    }
   ],
   "source": [
    "plt.boxplot(df2_pca.PC2)\n",
    "Q1 = df2_pca.PC2.quantile(0.05)\n",
    "Q3 = df2_pca.PC2.quantile(0.95)\n",
    "IQR=Q3-Q1\n",
    "df2_pca = df2_pca[(df2_pca.PC2>=Q1) & (df2_pca.PC2<=Q3)]"
   ]
  },
  {
   "cell_type": "code",
   "execution_count": 75,
   "metadata": {},
   "outputs": [
    {
     "data": {
      "image/png": "[encoded data removed]",
      "text/plain": [
       "<Figure size 432x288 with 1 Axes>"
      ]
     },
     "metadata": {
      "needs_background": "light"
     },
     "output_type": "display_data"
    }
   ],
   "source": [
    "plt.boxplot(df2_pca.PC3)\n",
    "Q1 = df2_pca.PC3.quantile(0.05)\n",
    "Q3 = df2_pca.PC3.quantile(0.95)\n",
    "IQR=Q3-Q1\n",
    "data_df3 = df2_pca[(df2_pca.PC3>=Q1) & (df2_pca.PC3<=Q3)]"
   ]
  },
  {
   "cell_type": "code",
   "execution_count": 77,
   "metadata": {},
   "outputs": [
    {
     "data": {
      "text/plain": [
       "(119, 4)"
      ]
     },
     "execution_count": 77,
     "metadata": {},
     "output_type": "execute_result"
    }
   ],
   "source": [
    "df2_pca.shape"
   ]
  },
  {
   "cell_type": "code",
   "execution_count": 78,
   "metadata": {},
   "outputs": [
    {
     "data": {
      "text/plain": [
       "<matplotlib.axes._subplots.AxesSubplot at 0xd9feda0>"
      ]
     },
     "execution_count": 78,
     "metadata": {},
     "output_type": "execute_result"
    },
    {
     "data": {
      "image/png": "[encoded data removed]",
      "text/plain": [
       "<Figure size 432x288 with 1 Axes>"
      ]
     },
     "metadata": {
      "needs_background": "light"
     },
     "output_type": "display_data"
    }
   ],
   "source": [
    "## Scatterplot to see the spread of the dataset\n",
    "\n",
    "sns.scatterplot(x='PC1',y='PC2',data=df2_pca)"
   ]
  },
  {
   "cell_type": "markdown",
   "metadata": {},
   "source": [
    "## Clustering"
   ]
  },
  {
   "cell_type": "code",
   "execution_count": 79,
   "metadata": {},
   "outputs": [],
   "source": [
    "## calculate the hopkins statistic if the data is suitable for clustering\n",
    "\n",
    "from sklearn.neighbors import NearestNeighbors\n",
    "from random import sample\n",
    "from numpy.random import uniform\n",
    "import numpy as np\n",
    "from math import isnan\n",
    "\n",
    "def hopkins(X):\n",
    "    a = X.shape[1]\n",
    "    b=len(X)\n",
    "    c=int(0.1*b)\n",
    "    nbrs=NearestNeighbors(n_neighbors=1).fit(X.values)\n",
    "    random_X=sample(range(0,b,1),c)\n",
    "    \n",
    "    d1=[]\n",
    "    d2=[]\n",
    "    for j in range(0,c):\n",
    "        dist1,_=nbrs.kneighbors(uniform(np.amin(X,axis=0),np.amax(X,axis=0),a).reshape(1,-1),2,return_distance=True)\n",
    "        d1.append(dist1[0][1])\n",
    "        dist2,_=nbrs.kneighbors(X.iloc[random_X[j]].values.reshape(1,-1),2,return_distance=True)\n",
    "        d2.append(dist2[0][1])\n",
    "        \n",
    "    hopkinsstat = sum(d1)/(sum(d1)+sum(d2))\n",
    "    if isnan(hopkinsstat):\n",
    "        print(d1,d2)\n",
    "        hopkinsstat=0\n",
    "        \n",
    "    return hopkinsstat"
   ]
  },
  {
   "cell_type": "code",
   "execution_count": 80,
   "metadata": {},
   "outputs": [
    {
     "data": {
      "text/plain": [
       "0.8431916884948214"
      ]
     },
     "execution_count": 80,
     "metadata": {},
     "output_type": "execute_result"
    }
   ],
   "source": [
    "#Hopkins statistic measure\n",
    "hopkins(df2_pca.drop(['country'],axis=1))"
   ]
  },
  {
   "cell_type": "markdown",
   "metadata": {},
   "source": [
    "## Heirarchical Clustering"
   ]
  },
  {
   "cell_type": "code",
   "execution_count": 81,
   "metadata": {},
   "outputs": [
    {
     "data": {
      "image/png": "[encoded data removed]",
      "text/plain": [
       "<Figure size 432x288 with 1 Axes>"
      ]
     },
     "metadata": {
      "needs_background": "light"
     },
     "output_type": "display_data"
    }
   ],
   "source": [
    "## Heirarchical clustering using single linkage procedure\n",
    "data_df3 = df2_pca\n",
    "data_df3_df1=standard_scaler.fit_transform(data_df3.drop(['country'],axis=1))\n",
    "mergings = linkage(data_df3_df1,method=\"complete\",metric='euclidean')\n",
    "dendrogram(mergings)\n",
    "plt.show()"
   ]
  },
  {
   "cell_type": "code",
   "execution_count": 83,
   "metadata": {},
   "outputs": [
    {
     "data": {
      "text/html": [
       "<div>\n",
       "<style scoped>\n",
       "    .dataframe tbody tr th:only-of-type {\n",
       "        vertical-align: middle;\n",
       "    }\n",
       "\n",
       "    .dataframe tbody tr th {\n",
       "        vertical-align: top;\n",
       "    }\n",
       "\n",
       "    .dataframe thead th {\n",
       "        text-align: right;\n",
       "    }\n",
       "</style>\n",
       "<table border=\"1\" class=\"dataframe\">\n",
       "  <thead>\n",
       "    <tr style=\"text-align: right;\">\n",
       "      <th></th>\n",
       "      <th>country</th>\n",
       "      <th>PC1</th>\n",
       "      <th>PC2</th>\n",
       "      <th>PC3</th>\n",
       "      <th>ClusterID</th>\n",
       "    </tr>\n",
       "  </thead>\n",
       "  <tbody>\n",
       "    <tr>\n",
       "      <th>0</th>\n",
       "      <td>Afghanistan</td>\n",
       "      <td>-2.637442</td>\n",
       "      <td>1.469038</td>\n",
       "      <td>-0.541359</td>\n",
       "      <td>0.0</td>\n",
       "    </tr>\n",
       "    <tr>\n",
       "      <th>1</th>\n",
       "      <td>NaN</td>\n",
       "      <td>NaN</td>\n",
       "      <td>NaN</td>\n",
       "      <td>NaN</td>\n",
       "      <td>1.0</td>\n",
       "    </tr>\n",
       "    <tr>\n",
       "      <th>2</th>\n",
       "      <td>Algeria</td>\n",
       "      <td>-0.457626</td>\n",
       "      <td>-0.673301</td>\n",
       "      <td>0.961867</td>\n",
       "      <td>2.0</td>\n",
       "    </tr>\n",
       "    <tr>\n",
       "      <th>3</th>\n",
       "      <td>NaN</td>\n",
       "      <td>NaN</td>\n",
       "      <td>NaN</td>\n",
       "      <td>NaN</td>\n",
       "      <td>2.0</td>\n",
       "    </tr>\n",
       "    <tr>\n",
       "      <th>4</th>\n",
       "      <td>Antigua and Barbuda</td>\n",
       "      <td>0.649849</td>\n",
       "      <td>-1.024374</td>\n",
       "      <td>-0.250103</td>\n",
       "      <td>3.0</td>\n",
       "    </tr>\n",
       "  </tbody>\n",
       "</table>\n",
       "</div>"
      ],
      "text/plain": [
       "               country       PC1       PC2       PC3  ClusterID\n",
       "0          Afghanistan -2.637442  1.469038 -0.541359        0.0\n",
       "1                  NaN       NaN       NaN       NaN        1.0\n",
       "2              Algeria -0.457626 -0.673301  0.961867        2.0\n",
       "3                  NaN       NaN       NaN       NaN        2.0\n",
       "4  Antigua and Barbuda  0.649849 -1.024374 -0.250103        3.0"
      ]
     },
     "execution_count": 83,
     "metadata": {},
     "output_type": "execute_result"
    }
   ],
   "source": [
    "## Cluster cutting for better shapes\n",
    "\n",
    "Clustercut = pd.Series(cut_tree(mergings,n_clusters=5).reshape(-1,))\n",
    "data_df3_hc=pd.concat([data_df3,Clustercut],axis=1)\n",
    "data_df3_hc.columns=['country','PC1','PC2','PC3','ClusterID']\n",
    "data_df3_hc.head()"
   ]
  },
  {
   "cell_type": "code",
   "execution_count": 84,
   "metadata": {},
   "outputs": [
    {
     "data": {
      "text/html": [
       "<div>\n",
       "<style scoped>\n",
       "    .dataframe tbody tr th:only-of-type {\n",
       "        vertical-align: middle;\n",
       "    }\n",
       "\n",
       "    .dataframe tbody tr th {\n",
       "        vertical-align: top;\n",
       "    }\n",
       "\n",
       "    .dataframe thead th {\n",
       "        text-align: right;\n",
       "    }\n",
       "</style>\n",
       "<table border=\"1\" class=\"dataframe\">\n",
       "  <thead>\n",
       "    <tr style=\"text-align: right;\">\n",
       "      <th></th>\n",
       "      <th>country</th>\n",
       "      <th>child_mort</th>\n",
       "      <th>exports</th>\n",
       "      <th>imports</th>\n",
       "      <th>health</th>\n",
       "      <th>income</th>\n",
       "      <th>inflation</th>\n",
       "      <th>life_expec</th>\n",
       "      <th>total_fer</th>\n",
       "      <th>gdpp</th>\n",
       "      <th>ClusterID</th>\n",
       "    </tr>\n",
       "  </thead>\n",
       "  <tbody>\n",
       "    <tr>\n",
       "      <th>0</th>\n",
       "      <td>Afghanistan</td>\n",
       "      <td>90.2</td>\n",
       "      <td>55.30</td>\n",
       "      <td>248.297</td>\n",
       "      <td>41.9174</td>\n",
       "      <td>1610</td>\n",
       "      <td>9.44</td>\n",
       "      <td>56.2</td>\n",
       "      <td>5.82</td>\n",
       "      <td>553</td>\n",
       "      <td>0.0</td>\n",
       "    </tr>\n",
       "    <tr>\n",
       "      <th>1</th>\n",
       "      <td>Algeria</td>\n",
       "      <td>27.3</td>\n",
       "      <td>1712.64</td>\n",
       "      <td>1400.440</td>\n",
       "      <td>185.9820</td>\n",
       "      <td>12900</td>\n",
       "      <td>16.10</td>\n",
       "      <td>76.5</td>\n",
       "      <td>2.89</td>\n",
       "      <td>4460</td>\n",
       "      <td>2.0</td>\n",
       "    </tr>\n",
       "    <tr>\n",
       "      <th>2</th>\n",
       "      <td>Antigua and Barbuda</td>\n",
       "      <td>10.3</td>\n",
       "      <td>5551.00</td>\n",
       "      <td>7185.800</td>\n",
       "      <td>735.6600</td>\n",
       "      <td>19100</td>\n",
       "      <td>1.44</td>\n",
       "      <td>76.8</td>\n",
       "      <td>2.13</td>\n",
       "      <td>12200</td>\n",
       "      <td>3.0</td>\n",
       "    </tr>\n",
       "    <tr>\n",
       "      <th>3</th>\n",
       "      <td>Armenia</td>\n",
       "      <td>18.1</td>\n",
       "      <td>669.76</td>\n",
       "      <td>1458.660</td>\n",
       "      <td>141.6800</td>\n",
       "      <td>6700</td>\n",
       "      <td>7.77</td>\n",
       "      <td>73.3</td>\n",
       "      <td>1.69</td>\n",
       "      <td>3220</td>\n",
       "      <td>1.0</td>\n",
       "    </tr>\n",
       "    <tr>\n",
       "      <th>4</th>\n",
       "      <td>Australia</td>\n",
       "      <td>4.8</td>\n",
       "      <td>10276.20</td>\n",
       "      <td>10847.100</td>\n",
       "      <td>4530.8700</td>\n",
       "      <td>41400</td>\n",
       "      <td>1.16</td>\n",
       "      <td>82.0</td>\n",
       "      <td>1.93</td>\n",
       "      <td>51900</td>\n",
       "      <td>2.0</td>\n",
       "    </tr>\n",
       "  </tbody>\n",
       "</table>\n",
       "</div>"
      ],
      "text/plain": [
       "               country  child_mort   exports    imports     health  income  \\\n",
       "0          Afghanistan        90.2     55.30    248.297    41.9174    1610   \n",
       "1              Algeria        27.3   1712.64   1400.440   185.9820   12900   \n",
       "2  Antigua and Barbuda        10.3   5551.00   7185.800   735.6600   19100   \n",
       "3              Armenia        18.1    669.76   1458.660   141.6800    6700   \n",
       "4            Australia         4.8  10276.20  10847.100  4530.8700   41400   \n",
       "\n",
       "   inflation  life_expec  total_fer   gdpp  ClusterID  \n",
       "0       9.44        56.2       5.82    553        0.0  \n",
       "1      16.10        76.5       2.89   4460        2.0  \n",
       "2       1.44        76.8       2.13  12200        3.0  \n",
       "3       7.77        73.3       1.69   3220        1.0  \n",
       "4       1.16        82.0       1.93  51900        2.0  "
      ]
     },
     "execution_count": 84,
     "metadata": {},
     "output_type": "execute_result"
    }
   ],
   "source": [
    "dat4=pd.merge(initial_data,data_df3_hc,on='country')\n",
    "dat5=dat4[['country','child_mort','exports','imports','health','income','inflation','life_expec','total_fer','gdpp','ClusterID']]\n",
    "dat5.head()"
   ]
  },
  {
   "cell_type": "code",
   "execution_count": 85,
   "metadata": {},
   "outputs": [
    {
     "data": {
      "text/plain": [
       "2.0    40\n",
       "1.0    16\n",
       "0.0    11\n",
       "4.0    10\n",
       "3.0     7\n",
       "Name: ClusterID, dtype: int64"
      ]
     },
     "execution_count": 85,
     "metadata": {},
     "output_type": "execute_result"
    }
   ],
   "source": [
    "dat5['ClusterID'].value_counts()"
   ]
  },
  {
   "cell_type": "code",
   "execution_count": 86,
   "metadata": {},
   "outputs": [
    {
     "data": {
      "text/plain": [
       "<matplotlib.axes._subplots.AxesSubplot at 0xdd9b320>"
      ]
     },
     "execution_count": 86,
     "metadata": {},
     "output_type": "execute_result"
    },
    {
     "data": {
      "image/png": "[encoded data removed]",
      "text/plain": [
       "<Figure size 432x288 with 1 Axes>"
      ]
     },
     "metadata": {
      "needs_background": "light"
     },
     "output_type": "display_data"
    }
   ],
   "source": [
    "## Visualizing the clusters\n",
    "datfinal=dat5[dat5['ClusterID']==0]\n",
    "sns.scatterplot(x='income',y='child_mort',data=datfinal)"
   ]
  },
  {
   "cell_type": "markdown",
   "metadata": {},
   "source": [
    "We are not getting proper clusters in the heirarchical clustering. So we will see if clusters are formed properly in k-means clustering"
   ]
  },
  {
   "cell_type": "markdown",
   "metadata": {},
   "source": [
    "## K-Means Clustering"
   ]
  },
  {
   "cell_type": "code",
   "execution_count": 89,
   "metadata": {},
   "outputs": [
    {
     "data": {
      "image/png": "[encoded data removed]",
      "text/plain": [
       "<Figure size 432x288 with 1 Axes>"
      ]
     },
     "metadata": {
      "needs_background": "light"
     },
     "output_type": "display_data"
    }
   ],
   "source": [
    "from sklearn.metrics import silhouette_score\n",
    "sse_=[]\n",
    "for k in range(2,10):\n",
    "    kmeans=KMeans(n_clusters=k).fit(data_df3_df1)\n",
    "    sse_.append([k,silhouette_score(data_df3_df1,kmeans.labels_)])\n",
    "    plt.plot(pd.DataFrame(sse_)[0],pd.DataFrame(sse_)[1])"
   ]
  },
  {
   "cell_type": "code",
   "execution_count": 92,
   "metadata": {},
   "outputs": [
    {
     "data": {
      "image/png": "[encoded data removed]",
      "text/plain": [
       "<Figure size 432x288 with 1 Axes>"
      ]
     },
     "metadata": {
      "needs_background": "light"
     },
     "output_type": "display_data"
    }
   ],
   "source": [
    "ssd=[]\n",
    "for num_clusters in list(range(1,10)):\n",
    "    model_cluster=KMeans(n_clusters=num_clusters,max_iter=50)\n",
    "    model_cluster.fit(data_df3_df1)\n",
    "    ssd.append(model_cluster.inertia_)\n",
    "    plt.plot(ssd)"
   ]
  },
  {
   "cell_type": "code",
   "execution_count": 94,
   "metadata": {},
   "outputs": [
    {
     "data": {
      "text/plain": [
       "KMeans(algorithm='auto', copy_x=True, init='k-means++', max_iter=50,\n",
       "       n_clusters=5, n_init=10, n_jobs=None, precompute_distances='auto',\n",
       "       random_state=None, tol=0.0001, verbose=0)"
      ]
     },
     "execution_count": 94,
     "metadata": {},
     "output_type": "execute_result"
    }
   ],
   "source": [
    "## check with k value as 5\n",
    "\n",
    "model_cluster5=KMeans(n_clusters=5,max_iter=50)\n",
    "model_cluster5.fit(data_df3_df1)"
   ]
  },
  {
   "cell_type": "code",
   "execution_count": 95,
   "metadata": {},
   "outputs": [
    {
     "data": {
      "text/html": [
       "<div>\n",
       "<style scoped>\n",
       "    .dataframe tbody tr th:only-of-type {\n",
       "        vertical-align: middle;\n",
       "    }\n",
       "\n",
       "    .dataframe tbody tr th {\n",
       "        vertical-align: top;\n",
       "    }\n",
       "\n",
       "    .dataframe thead th {\n",
       "        text-align: right;\n",
       "    }\n",
       "</style>\n",
       "<table border=\"1\" class=\"dataframe\">\n",
       "  <thead>\n",
       "    <tr style=\"text-align: right;\">\n",
       "      <th></th>\n",
       "      <th>country</th>\n",
       "      <th>PC1</th>\n",
       "      <th>PC2</th>\n",
       "      <th>PC3</th>\n",
       "      <th>ClusterID</th>\n",
       "    </tr>\n",
       "  </thead>\n",
       "  <tbody>\n",
       "    <tr>\n",
       "      <th>0</th>\n",
       "      <td>Afghanistan</td>\n",
       "      <td>-2.637442</td>\n",
       "      <td>1.469038</td>\n",
       "      <td>-0.541359</td>\n",
       "      <td>3</td>\n",
       "    </tr>\n",
       "    <tr>\n",
       "      <th>1</th>\n",
       "      <td>Algeria</td>\n",
       "      <td>-0.457626</td>\n",
       "      <td>-0.673301</td>\n",
       "      <td>0.961867</td>\n",
       "      <td>4</td>\n",
       "    </tr>\n",
       "    <tr>\n",
       "      <th>2</th>\n",
       "      <td>Antigua and Barbuda</td>\n",
       "      <td>0.649849</td>\n",
       "      <td>-1.024374</td>\n",
       "      <td>-0.250103</td>\n",
       "      <td>0</td>\n",
       "    </tr>\n",
       "    <tr>\n",
       "      <th>3</th>\n",
       "      <td>Armenia</td>\n",
       "      <td>-0.332692</td>\n",
       "      <td>-1.274517</td>\n",
       "      <td>0.176636</td>\n",
       "      <td>0</td>\n",
       "    </tr>\n",
       "    <tr>\n",
       "      <th>4</th>\n",
       "      <td>Australia</td>\n",
       "      <td>3.180362</td>\n",
       "      <td>-0.250785</td>\n",
       "      <td>-0.116877</td>\n",
       "      <td>2</td>\n",
       "    </tr>\n",
       "  </tbody>\n",
       "</table>\n",
       "</div>"
      ],
      "text/plain": [
       "               country       PC1       PC2       PC3  ClusterID\n",
       "0          Afghanistan -2.637442  1.469038 -0.541359          3\n",
       "1              Algeria -0.457626 -0.673301  0.961867          4\n",
       "2  Antigua and Barbuda  0.649849 -1.024374 -0.250103          0\n",
       "3              Armenia -0.332692 -1.274517  0.176636          0\n",
       "4            Australia  3.180362 -0.250785 -0.116877          2"
      ]
     },
     "execution_count": 95,
     "metadata": {},
     "output_type": "execute_result"
    }
   ],
   "source": [
    "df4=data_df3\n",
    "df4.index=pd.RangeIndex(len(df4.index))\n",
    "data_km=pd.concat([df4,pd.Series(model_cluster5.labels_)],axis=1)\n",
    "data_km.columns=['country','PC1','PC2','PC3','ClusterID']\n",
    "data_km.head()"
   ]
  },
  {
   "cell_type": "code",
   "execution_count": 96,
   "metadata": {},
   "outputs": [
    {
     "data": {
      "text/plain": [
       "0    54\n",
       "2    21\n",
       "3    19\n",
       "4    17\n",
       "1     8\n",
       "Name: ClusterID, dtype: int64"
      ]
     },
     "execution_count": 96,
     "metadata": {},
     "output_type": "execute_result"
    }
   ],
   "source": [
    "data_km['ClusterID'].value_counts()"
   ]
  },
  {
   "cell_type": "code",
   "execution_count": 97,
   "metadata": {},
   "outputs": [
    {
     "data": {
      "text/plain": [
       "<matplotlib.axes._subplots.AxesSubplot at 0xd485860>"
      ]
     },
     "execution_count": 97,
     "metadata": {},
     "output_type": "execute_result"
    },
    {
     "data": {
      "image/png": "[encoded data removed]",
      "text/plain": [
       "<Figure size 432x288 with 1 Axes>"
      ]
     },
     "metadata": {
      "needs_background": "light"
     },
     "output_type": "display_data"
    }
   ],
   "source": [
    "##Scatterplot to visualize the principal components\n",
    "\n",
    "sns.scatterplot(x='PC1',y='PC2',hue='ClusterID',legend='full',data=data_km)"
   ]
  },
  {
   "cell_type": "code",
   "execution_count": 98,
   "metadata": {},
   "outputs": [
    {
     "data": {
      "text/plain": [
       "<matplotlib.axes._subplots.AxesSubplot at 0xd52fe80>"
      ]
     },
     "execution_count": 98,
     "metadata": {},
     "output_type": "execute_result"
    },
    {
     "data": {
      "image/png": "[encoded data removed]",
      "text/plain": [
       "<Figure size 432x288 with 1 Axes>"
      ]
     },
     "metadata": {
      "needs_background": "light"
     },
     "output_type": "display_data"
    }
   ],
   "source": [
    "sns.scatterplot(x='PC2',y='PC3',hue='ClusterID',legend='full',data=data_km)"
   ]
  },
  {
   "cell_type": "code",
   "execution_count": 100,
   "metadata": {},
   "outputs": [
    {
     "data": {
      "text/plain": [
       "<matplotlib.axes._subplots.AxesSubplot at 0xd61b940>"
      ]
     },
     "execution_count": 100,
     "metadata": {},
     "output_type": "execute_result"
    },
    {
     "data": {
      "image/png": "[encoded data removed]",
      "text/plain": [
       "<Figure size 432x288 with 1 Axes>"
      ]
     },
     "metadata": {
      "needs_background": "light"
     },
     "output_type": "display_data"
    }
   ],
   "source": [
    "sns.scatterplot(x='PC3',y='PC1',hue='ClusterID',legend='full',data=data_km)"
   ]
  },
  {
   "cell_type": "code",
   "execution_count": 102,
   "metadata": {},
   "outputs": [
    {
     "data": {
      "text/html": [
       "<div>\n",
       "<style scoped>\n",
       "    .dataframe tbody tr th:only-of-type {\n",
       "        vertical-align: middle;\n",
       "    }\n",
       "\n",
       "    .dataframe tbody tr th {\n",
       "        vertical-align: top;\n",
       "    }\n",
       "\n",
       "    .dataframe thead th {\n",
       "        text-align: right;\n",
       "    }\n",
       "</style>\n",
       "<table border=\"1\" class=\"dataframe\">\n",
       "  <thead>\n",
       "    <tr style=\"text-align: right;\">\n",
       "      <th></th>\n",
       "      <th>ClusterID</th>\n",
       "      <th>Child_Mortality</th>\n",
       "      <th>Exports</th>\n",
       "      <th>Imports</th>\n",
       "      <th>Health</th>\n",
       "      <th>Income</th>\n",
       "      <th>Inflation</th>\n",
       "      <th>life_Expec</th>\n",
       "      <th>Total_fer</th>\n",
       "      <th>GDPP</th>\n",
       "    </tr>\n",
       "  </thead>\n",
       "  <tbody>\n",
       "    <tr>\n",
       "      <th>0</th>\n",
       "      <td>0</td>\n",
       "      <td>21.327778</td>\n",
       "      <td>3197.866906</td>\n",
       "      <td>3549.747687</td>\n",
       "      <td>476.537426</td>\n",
       "      <td>12019.629630</td>\n",
       "      <td>4.389981</td>\n",
       "      <td>73.307407</td>\n",
       "      <td>2.276296</td>\n",
       "      <td>6915.592593</td>\n",
       "    </tr>\n",
       "    <tr>\n",
       "      <th>1</th>\n",
       "      <td>1</td>\n",
       "      <td>65.250000</td>\n",
       "      <td>1367.857750</td>\n",
       "      <td>895.048500</td>\n",
       "      <td>134.866550</td>\n",
       "      <td>6203.750000</td>\n",
       "      <td>18.137500</td>\n",
       "      <td>65.537500</td>\n",
       "      <td>4.487500</td>\n",
       "      <td>2753.500000</td>\n",
       "    </tr>\n",
       "    <tr>\n",
       "      <th>2</th>\n",
       "      <td>2</td>\n",
       "      <td>4.795238</td>\n",
       "      <td>14001.761905</td>\n",
       "      <td>13929.619048</td>\n",
       "      <td>3758.980952</td>\n",
       "      <td>35566.666667</td>\n",
       "      <td>1.147381</td>\n",
       "      <td>80.376190</td>\n",
       "      <td>1.759048</td>\n",
       "      <td>37209.523810</td>\n",
       "    </tr>\n",
       "    <tr>\n",
       "      <th>3</th>\n",
       "      <td>3</td>\n",
       "      <td>65.084211</td>\n",
       "      <td>787.408095</td>\n",
       "      <td>969.381895</td>\n",
       "      <td>145.439137</td>\n",
       "      <td>3983.157895</td>\n",
       "      <td>6.446842</td>\n",
       "      <td>61.657895</td>\n",
       "      <td>4.266842</td>\n",
       "      <td>2025.947368</td>\n",
       "    </tr>\n",
       "    <tr>\n",
       "      <th>4</th>\n",
       "      <td>4</td>\n",
       "      <td>19.964706</td>\n",
       "      <td>6649.636094</td>\n",
       "      <td>4599.561059</td>\n",
       "      <td>472.387471</td>\n",
       "      <td>23580.588235</td>\n",
       "      <td>13.935294</td>\n",
       "      <td>72.976471</td>\n",
       "      <td>2.145882</td>\n",
       "      <td>11205.411765</td>\n",
       "    </tr>\n",
       "  </tbody>\n",
       "</table>\n",
       "</div>"
      ],
      "text/plain": [
       "   ClusterID  Child_Mortality       Exports       Imports       Health  \\\n",
       "0          0        21.327778   3197.866906   3549.747687   476.537426   \n",
       "1          1        65.250000   1367.857750    895.048500   134.866550   \n",
       "2          2         4.795238  14001.761905  13929.619048  3758.980952   \n",
       "3          3        65.084211    787.408095    969.381895   145.439137   \n",
       "4          4        19.964706   6649.636094   4599.561059   472.387471   \n",
       "\n",
       "         Income  Inflation  life_Expec  Total_fer          GDPP  \n",
       "0  12019.629630   4.389981   73.307407   2.276296   6915.592593  \n",
       "1   6203.750000  18.137500   65.537500   4.487500   2753.500000  \n",
       "2  35566.666667   1.147381   80.376190   1.759048  37209.523810  \n",
       "3   3983.157895   6.446842   61.657895   4.266842   2025.947368  \n",
       "4  23580.588235  13.935294   72.976471   2.145882  11205.411765  "
      ]
     },
     "execution_count": 102,
     "metadata": {},
     "output_type": "execute_result"
    }
   ],
   "source": [
    "data5=pd.merge(initial_data,data_km,on='country')\n",
    "data6=data5[['country','child_mort','exports','imports','health','income','inflation','life_expec','total_fer','gdpp','ClusterID']]\n",
    "cluster_chi=pd.DataFrame(data6.groupby([\"ClusterID\"]).child_mort.mean())\n",
    "cluster_exp=pd.DataFrame(data6.groupby([\"ClusterID\"]).exports.mean())\n",
    "cluster_imp=pd.DataFrame(data6.groupby([\"ClusterID\"]).imports.mean())\n",
    "cluster_hea=pd.DataFrame(data6.groupby([\"ClusterID\"]).health.mean())\n",
    "cluster_inc=pd.DataFrame(data6.groupby([\"ClusterID\"]).income.mean())\n",
    "cluster_inf=pd.DataFrame(data6.groupby([\"ClusterID\"]).inflation.mean())\n",
    "cluster_lif=pd.DataFrame(data6.groupby([\"ClusterID\"]).life_expec.mean())\n",
    "cluster_tot=pd.DataFrame(data6.groupby([\"ClusterID\"]).total_fer.mean())\n",
    "cluster_gdpp=pd.DataFrame(data6.groupby([\"ClusterID\"]).gdpp.mean())\n",
    "df=pd.concat([pd.Series([0,1,2,3,4]),cluster_chi,cluster_exp,cluster_imp,cluster_hea,cluster_inc,cluster_inf,cluster_lif,cluster_tot,cluster_gdpp],axis=1)\n",
    "df.columns=[\"ClusterID\",\"Child_Mortality\",\"Exports\",\"Imports\",\"Health\",\"Income\",\"Inflation\",\"life_Expec\",\"Total_fer\",\"GDPP\"]\n",
    "df"
   ]
  },
  {
   "cell_type": "markdown",
   "metadata": {},
   "source": [
    "We observe that Child mortality, Income, Inflation and GDP per capita are good predictors for the development of a country."
   ]
  },
  {
   "cell_type": "code",
   "execution_count": 103,
   "metadata": {},
   "outputs": [
    {
     "data": {
      "text/html": [
       "<div>\n",
       "<style scoped>\n",
       "    .dataframe tbody tr th:only-of-type {\n",
       "        vertical-align: middle;\n",
       "    }\n",
       "\n",
       "    .dataframe tbody tr th {\n",
       "        vertical-align: top;\n",
       "    }\n",
       "\n",
       "    .dataframe thead th {\n",
       "        text-align: right;\n",
       "    }\n",
       "</style>\n",
       "<table border=\"1\" class=\"dataframe\">\n",
       "  <thead>\n",
       "    <tr style=\"text-align: right;\">\n",
       "      <th></th>\n",
       "      <th>country</th>\n",
       "      <th>child_mort</th>\n",
       "      <th>exports</th>\n",
       "      <th>health</th>\n",
       "      <th>imports</th>\n",
       "      <th>income</th>\n",
       "      <th>inflation</th>\n",
       "      <th>life_expec</th>\n",
       "      <th>total_fer</th>\n",
       "      <th>gdpp</th>\n",
       "    </tr>\n",
       "  </thead>\n",
       "  <tbody>\n",
       "    <tr>\n",
       "      <th>0</th>\n",
       "      <td>Afghanistan</td>\n",
       "      <td>90.2</td>\n",
       "      <td>55.3000</td>\n",
       "      <td>41.9174</td>\n",
       "      <td>248.297</td>\n",
       "      <td>1610</td>\n",
       "      <td>9.440</td>\n",
       "      <td>56.2</td>\n",
       "      <td>5.82</td>\n",
       "      <td>553</td>\n",
       "    </tr>\n",
       "    <tr>\n",
       "      <th>12</th>\n",
       "      <td>Bangladesh</td>\n",
       "      <td>49.4</td>\n",
       "      <td>121.2800</td>\n",
       "      <td>26.6816</td>\n",
       "      <td>165.244</td>\n",
       "      <td>2440</td>\n",
       "      <td>7.140</td>\n",
       "      <td>70.4</td>\n",
       "      <td>2.33</td>\n",
       "      <td>758</td>\n",
       "    </tr>\n",
       "    <tr>\n",
       "      <th>17</th>\n",
       "      <td>Benin</td>\n",
       "      <td>111.0</td>\n",
       "      <td>180.4040</td>\n",
       "      <td>31.0780</td>\n",
       "      <td>281.976</td>\n",
       "      <td>1820</td>\n",
       "      <td>0.885</td>\n",
       "      <td>61.8</td>\n",
       "      <td>5.36</td>\n",
       "      <td>758</td>\n",
       "    </tr>\n",
       "    <tr>\n",
       "      <th>25</th>\n",
       "      <td>Burkina Faso</td>\n",
       "      <td>116.0</td>\n",
       "      <td>110.4000</td>\n",
       "      <td>38.7550</td>\n",
       "      <td>170.200</td>\n",
       "      <td>1430</td>\n",
       "      <td>6.810</td>\n",
       "      <td>57.9</td>\n",
       "      <td>5.87</td>\n",
       "      <td>575</td>\n",
       "    </tr>\n",
       "    <tr>\n",
       "      <th>26</th>\n",
       "      <td>Burundi</td>\n",
       "      <td>93.6</td>\n",
       "      <td>20.6052</td>\n",
       "      <td>26.7960</td>\n",
       "      <td>90.552</td>\n",
       "      <td>764</td>\n",
       "      <td>12.300</td>\n",
       "      <td>57.7</td>\n",
       "      <td>6.26</td>\n",
       "      <td>231</td>\n",
       "    </tr>\n",
       "  </tbody>\n",
       "</table>\n",
       "</div>"
      ],
      "text/plain": [
       "         country  child_mort   exports   health  imports  income  inflation  \\\n",
       "0    Afghanistan        90.2   55.3000  41.9174  248.297    1610      9.440   \n",
       "12    Bangladesh        49.4  121.2800  26.6816  165.244    2440      7.140   \n",
       "17         Benin       111.0  180.4040  31.0780  281.976    1820      0.885   \n",
       "25  Burkina Faso       116.0  110.4000  38.7550  170.200    1430      6.810   \n",
       "26       Burundi        93.6   20.6052  26.7960   90.552     764     12.300   \n",
       "\n",
       "    life_expec  total_fer  gdpp  \n",
       "0         56.2       5.82   553  \n",
       "12        70.4       2.33   758  \n",
       "17        61.8       5.36   758  \n",
       "25        57.9       5.87   575  \n",
       "26        57.7       6.26   231  "
      ]
     },
     "execution_count": 103,
     "metadata": {},
     "output_type": "execute_result"
    }
   ],
   "source": [
    "finallist=initial_data[initial_data['gdpp']<=1700]\n",
    "finallist.head()"
   ]
  },
  {
   "cell_type": "code",
   "execution_count": 104,
   "metadata": {},
   "outputs": [
    {
     "data": {
      "text/html": [
       "<div>\n",
       "<style scoped>\n",
       "    .dataframe tbody tr th:only-of-type {\n",
       "        vertical-align: middle;\n",
       "    }\n",
       "\n",
       "    .dataframe tbody tr th {\n",
       "        vertical-align: top;\n",
       "    }\n",
       "\n",
       "    .dataframe thead th {\n",
       "        text-align: right;\n",
       "    }\n",
       "</style>\n",
       "<table border=\"1\" class=\"dataframe\">\n",
       "  <thead>\n",
       "    <tr style=\"text-align: right;\">\n",
       "      <th></th>\n",
       "      <th>country</th>\n",
       "      <th>child_mort</th>\n",
       "      <th>exports</th>\n",
       "      <th>health</th>\n",
       "      <th>imports</th>\n",
       "      <th>income</th>\n",
       "      <th>inflation</th>\n",
       "      <th>life_expec</th>\n",
       "      <th>total_fer</th>\n",
       "      <th>gdpp</th>\n",
       "    </tr>\n",
       "  </thead>\n",
       "  <tbody>\n",
       "    <tr>\n",
       "      <th>0</th>\n",
       "      <td>Afghanistan</td>\n",
       "      <td>90.2</td>\n",
       "      <td>55.3000</td>\n",
       "      <td>41.9174</td>\n",
       "      <td>248.297</td>\n",
       "      <td>1610</td>\n",
       "      <td>9.440</td>\n",
       "      <td>56.2</td>\n",
       "      <td>5.82</td>\n",
       "      <td>553</td>\n",
       "    </tr>\n",
       "    <tr>\n",
       "      <th>17</th>\n",
       "      <td>Benin</td>\n",
       "      <td>111.0</td>\n",
       "      <td>180.4040</td>\n",
       "      <td>31.0780</td>\n",
       "      <td>281.976</td>\n",
       "      <td>1820</td>\n",
       "      <td>0.885</td>\n",
       "      <td>61.8</td>\n",
       "      <td>5.36</td>\n",
       "      <td>758</td>\n",
       "    </tr>\n",
       "    <tr>\n",
       "      <th>25</th>\n",
       "      <td>Burkina Faso</td>\n",
       "      <td>116.0</td>\n",
       "      <td>110.4000</td>\n",
       "      <td>38.7550</td>\n",
       "      <td>170.200</td>\n",
       "      <td>1430</td>\n",
       "      <td>6.810</td>\n",
       "      <td>57.9</td>\n",
       "      <td>5.87</td>\n",
       "      <td>575</td>\n",
       "    </tr>\n",
       "    <tr>\n",
       "      <th>26</th>\n",
       "      <td>Burundi</td>\n",
       "      <td>93.6</td>\n",
       "      <td>20.6052</td>\n",
       "      <td>26.7960</td>\n",
       "      <td>90.552</td>\n",
       "      <td>764</td>\n",
       "      <td>12.300</td>\n",
       "      <td>57.7</td>\n",
       "      <td>6.26</td>\n",
       "      <td>231</td>\n",
       "    </tr>\n",
       "    <tr>\n",
       "      <th>28</th>\n",
       "      <td>Cameroon</td>\n",
       "      <td>108.0</td>\n",
       "      <td>290.8200</td>\n",
       "      <td>67.2030</td>\n",
       "      <td>353.700</td>\n",
       "      <td>2660</td>\n",
       "      <td>1.910</td>\n",
       "      <td>57.3</td>\n",
       "      <td>5.11</td>\n",
       "      <td>1310</td>\n",
       "    </tr>\n",
       "    <tr>\n",
       "      <th>31</th>\n",
       "      <td>Central African Republic</td>\n",
       "      <td>149.0</td>\n",
       "      <td>52.6280</td>\n",
       "      <td>17.7508</td>\n",
       "      <td>118.190</td>\n",
       "      <td>888</td>\n",
       "      <td>2.010</td>\n",
       "      <td>47.5</td>\n",
       "      <td>5.21</td>\n",
       "      <td>446</td>\n",
       "    </tr>\n",
       "    <tr>\n",
       "      <th>32</th>\n",
       "      <td>Chad</td>\n",
       "      <td>150.0</td>\n",
       "      <td>330.0960</td>\n",
       "      <td>40.6341</td>\n",
       "      <td>390.195</td>\n",
       "      <td>1930</td>\n",
       "      <td>6.390</td>\n",
       "      <td>56.5</td>\n",
       "      <td>6.59</td>\n",
       "      <td>897</td>\n",
       "    </tr>\n",
       "    <tr>\n",
       "      <th>36</th>\n",
       "      <td>Comoros</td>\n",
       "      <td>88.2</td>\n",
       "      <td>126.8850</td>\n",
       "      <td>34.6819</td>\n",
       "      <td>397.573</td>\n",
       "      <td>1410</td>\n",
       "      <td>3.870</td>\n",
       "      <td>65.9</td>\n",
       "      <td>4.75</td>\n",
       "      <td>769</td>\n",
       "    </tr>\n",
       "    <tr>\n",
       "      <th>37</th>\n",
       "      <td>Congo, Dem. Rep.</td>\n",
       "      <td>116.0</td>\n",
       "      <td>137.2740</td>\n",
       "      <td>26.4194</td>\n",
       "      <td>165.664</td>\n",
       "      <td>609</td>\n",
       "      <td>20.800</td>\n",
       "      <td>57.5</td>\n",
       "      <td>6.54</td>\n",
       "      <td>334</td>\n",
       "    </tr>\n",
       "    <tr>\n",
       "      <th>40</th>\n",
       "      <td>Cote d'Ivoire</td>\n",
       "      <td>111.0</td>\n",
       "      <td>617.3200</td>\n",
       "      <td>64.6600</td>\n",
       "      <td>528.260</td>\n",
       "      <td>2690</td>\n",
       "      <td>5.390</td>\n",
       "      <td>56.3</td>\n",
       "      <td>5.27</td>\n",
       "      <td>1220</td>\n",
       "    </tr>\n",
       "    <tr>\n",
       "      <th>56</th>\n",
       "      <td>Gambia</td>\n",
       "      <td>80.3</td>\n",
       "      <td>133.7560</td>\n",
       "      <td>31.9778</td>\n",
       "      <td>239.974</td>\n",
       "      <td>1660</td>\n",
       "      <td>4.300</td>\n",
       "      <td>65.5</td>\n",
       "      <td>5.71</td>\n",
       "      <td>562</td>\n",
       "    </tr>\n",
       "    <tr>\n",
       "      <th>63</th>\n",
       "      <td>Guinea</td>\n",
       "      <td>109.0</td>\n",
       "      <td>196.3440</td>\n",
       "      <td>31.9464</td>\n",
       "      <td>279.936</td>\n",
       "      <td>1190</td>\n",
       "      <td>16.100</td>\n",
       "      <td>58.0</td>\n",
       "      <td>5.34</td>\n",
       "      <td>648</td>\n",
       "    </tr>\n",
       "    <tr>\n",
       "      <th>64</th>\n",
       "      <td>Guinea-Bissau</td>\n",
       "      <td>114.0</td>\n",
       "      <td>81.5030</td>\n",
       "      <td>46.4950</td>\n",
       "      <td>192.544</td>\n",
       "      <td>1390</td>\n",
       "      <td>2.970</td>\n",
       "      <td>55.6</td>\n",
       "      <td>5.05</td>\n",
       "      <td>547</td>\n",
       "    </tr>\n",
       "    <tr>\n",
       "      <th>66</th>\n",
       "      <td>Haiti</td>\n",
       "      <td>208.0</td>\n",
       "      <td>101.2860</td>\n",
       "      <td>45.7442</td>\n",
       "      <td>428.314</td>\n",
       "      <td>1500</td>\n",
       "      <td>5.450</td>\n",
       "      <td>32.1</td>\n",
       "      <td>3.33</td>\n",
       "      <td>662</td>\n",
       "    </tr>\n",
       "    <tr>\n",
       "      <th>87</th>\n",
       "      <td>Lesotho</td>\n",
       "      <td>99.7</td>\n",
       "      <td>460.9800</td>\n",
       "      <td>129.8700</td>\n",
       "      <td>1181.700</td>\n",
       "      <td>2380</td>\n",
       "      <td>4.150</td>\n",
       "      <td>46.5</td>\n",
       "      <td>3.30</td>\n",
       "      <td>1170</td>\n",
       "    </tr>\n",
       "    <tr>\n",
       "      <th>88</th>\n",
       "      <td>Liberia</td>\n",
       "      <td>89.3</td>\n",
       "      <td>62.4570</td>\n",
       "      <td>38.5860</td>\n",
       "      <td>302.802</td>\n",
       "      <td>700</td>\n",
       "      <td>5.470</td>\n",
       "      <td>60.8</td>\n",
       "      <td>5.02</td>\n",
       "      <td>327</td>\n",
       "    </tr>\n",
       "    <tr>\n",
       "      <th>94</th>\n",
       "      <td>Malawi</td>\n",
       "      <td>90.5</td>\n",
       "      <td>104.6520</td>\n",
       "      <td>30.2481</td>\n",
       "      <td>160.191</td>\n",
       "      <td>1030</td>\n",
       "      <td>12.100</td>\n",
       "      <td>53.1</td>\n",
       "      <td>5.31</td>\n",
       "      <td>459</td>\n",
       "    </tr>\n",
       "    <tr>\n",
       "      <th>97</th>\n",
       "      <td>Mali</td>\n",
       "      <td>137.0</td>\n",
       "      <td>161.4240</td>\n",
       "      <td>35.2584</td>\n",
       "      <td>248.508</td>\n",
       "      <td>1870</td>\n",
       "      <td>4.370</td>\n",
       "      <td>59.5</td>\n",
       "      <td>6.55</td>\n",
       "      <td>708</td>\n",
       "    </tr>\n",
       "    <tr>\n",
       "      <th>106</th>\n",
       "      <td>Mozambique</td>\n",
       "      <td>101.0</td>\n",
       "      <td>131.9850</td>\n",
       "      <td>21.8299</td>\n",
       "      <td>193.578</td>\n",
       "      <td>918</td>\n",
       "      <td>7.640</td>\n",
       "      <td>54.5</td>\n",
       "      <td>5.56</td>\n",
       "      <td>419</td>\n",
       "    </tr>\n",
       "    <tr>\n",
       "      <th>112</th>\n",
       "      <td>Niger</td>\n",
       "      <td>123.0</td>\n",
       "      <td>77.2560</td>\n",
       "      <td>17.9568</td>\n",
       "      <td>170.868</td>\n",
       "      <td>814</td>\n",
       "      <td>2.550</td>\n",
       "      <td>58.8</td>\n",
       "      <td>7.49</td>\n",
       "      <td>348</td>\n",
       "    </tr>\n",
       "    <tr>\n",
       "      <th>132</th>\n",
       "      <td>Sierra Leone</td>\n",
       "      <td>160.0</td>\n",
       "      <td>67.0320</td>\n",
       "      <td>52.2690</td>\n",
       "      <td>137.655</td>\n",
       "      <td>1220</td>\n",
       "      <td>17.200</td>\n",
       "      <td>55.0</td>\n",
       "      <td>5.20</td>\n",
       "      <td>399</td>\n",
       "    </tr>\n",
       "    <tr>\n",
       "      <th>150</th>\n",
       "      <td>Togo</td>\n",
       "      <td>90.3</td>\n",
       "      <td>196.1760</td>\n",
       "      <td>37.3320</td>\n",
       "      <td>279.624</td>\n",
       "      <td>1210</td>\n",
       "      <td>1.180</td>\n",
       "      <td>58.7</td>\n",
       "      <td>4.87</td>\n",
       "      <td>488</td>\n",
       "    </tr>\n",
       "    <tr>\n",
       "      <th>155</th>\n",
       "      <td>Uganda</td>\n",
       "      <td>81.0</td>\n",
       "      <td>101.7450</td>\n",
       "      <td>53.6095</td>\n",
       "      <td>170.170</td>\n",
       "      <td>1540</td>\n",
       "      <td>10.600</td>\n",
       "      <td>56.8</td>\n",
       "      <td>6.15</td>\n",
       "      <td>595</td>\n",
       "    </tr>\n",
       "  </tbody>\n",
       "</table>\n",
       "</div>"
      ],
      "text/plain": [
       "                      country  child_mort   exports    health   imports  \\\n",
       "0                 Afghanistan        90.2   55.3000   41.9174   248.297   \n",
       "17                      Benin       111.0  180.4040   31.0780   281.976   \n",
       "25               Burkina Faso       116.0  110.4000   38.7550   170.200   \n",
       "26                    Burundi        93.6   20.6052   26.7960    90.552   \n",
       "28                   Cameroon       108.0  290.8200   67.2030   353.700   \n",
       "31   Central African Republic       149.0   52.6280   17.7508   118.190   \n",
       "32                       Chad       150.0  330.0960   40.6341   390.195   \n",
       "36                    Comoros        88.2  126.8850   34.6819   397.573   \n",
       "37           Congo, Dem. Rep.       116.0  137.2740   26.4194   165.664   \n",
       "40              Cote d'Ivoire       111.0  617.3200   64.6600   528.260   \n",
       "56                     Gambia        80.3  133.7560   31.9778   239.974   \n",
       "63                     Guinea       109.0  196.3440   31.9464   279.936   \n",
       "64              Guinea-Bissau       114.0   81.5030   46.4950   192.544   \n",
       "66                      Haiti       208.0  101.2860   45.7442   428.314   \n",
       "87                    Lesotho        99.7  460.9800  129.8700  1181.700   \n",
       "88                    Liberia        89.3   62.4570   38.5860   302.802   \n",
       "94                     Malawi        90.5  104.6520   30.2481   160.191   \n",
       "97                       Mali       137.0  161.4240   35.2584   248.508   \n",
       "106                Mozambique       101.0  131.9850   21.8299   193.578   \n",
       "112                     Niger       123.0   77.2560   17.9568   170.868   \n",
       "132              Sierra Leone       160.0   67.0320   52.2690   137.655   \n",
       "150                      Togo        90.3  196.1760   37.3320   279.624   \n",
       "155                    Uganda        81.0  101.7450   53.6095   170.170   \n",
       "\n",
       "     income  inflation  life_expec  total_fer  gdpp  \n",
       "0      1610      9.440        56.2       5.82   553  \n",
       "17     1820      0.885        61.8       5.36   758  \n",
       "25     1430      6.810        57.9       5.87   575  \n",
       "26      764     12.300        57.7       6.26   231  \n",
       "28     2660      1.910        57.3       5.11  1310  \n",
       "31      888      2.010        47.5       5.21   446  \n",
       "32     1930      6.390        56.5       6.59   897  \n",
       "36     1410      3.870        65.9       4.75   769  \n",
       "37      609     20.800        57.5       6.54   334  \n",
       "40     2690      5.390        56.3       5.27  1220  \n",
       "56     1660      4.300        65.5       5.71   562  \n",
       "63     1190     16.100        58.0       5.34   648  \n",
       "64     1390      2.970        55.6       5.05   547  \n",
       "66     1500      5.450        32.1       3.33   662  \n",
       "87     2380      4.150        46.5       3.30  1170  \n",
       "88      700      5.470        60.8       5.02   327  \n",
       "94     1030     12.100        53.1       5.31   459  \n",
       "97     1870      4.370        59.5       6.55   708  \n",
       "106     918      7.640        54.5       5.56   419  \n",
       "112     814      2.550        58.8       7.49   348  \n",
       "132    1220     17.200        55.0       5.20   399  \n",
       "150    1210      1.180        58.7       4.87   488  \n",
       "155    1540     10.600        56.8       6.15   595  "
      ]
     },
     "execution_count": 104,
     "metadata": {},
     "output_type": "execute_result"
    }
   ],
   "source": [
    "finallist_countries=finallist[finallist['child_mort']>=76]\n",
    "finaldf=finallist_countries[finallist_countries['income']<3200]\n",
    "finaldf"
   ]
  },
  {
   "cell_type": "markdown",
   "metadata": {},
   "source": [
    "## Final Remarks\n",
    "\n",
    "Major focus for aid should be given to the above countries as described."
   ]
  },
  {
   "cell_type": "code",
   "execution_count": null,
   "metadata": {},
   "outputs": [],
   "source": []
  }
 ],
 "metadata": {
  "kernelspec": {
   "display_name": "Python 3",
   "language": "python",
   "name": "python3"
  },
  "language_info": {
   "codemirror_mode": {
    "name": "ipython",
    "version": 3
   },
   "file_extension": ".py",
   "mimetype": "text/x-python",
   "name": "python",
   "nbconvert_exporter": "python",
   "pygments_lexer": "ipython3",
   "version": "3.7.3"
  }
 },
 "nbformat": 4,
 "nbformat_minor": 2
}
